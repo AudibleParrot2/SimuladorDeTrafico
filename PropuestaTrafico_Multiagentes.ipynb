{
 "cells": [
  {
   "cell_type": "code",
   "execution_count": null,
   "id": "fDDaNBCCifBN",
   "metadata": {
    "colab": {
     "base_uri": "https://localhost:8080/"
    },
    "id": "fDDaNBCCifBN",
    "outputId": "c0b28d8d-4909-4ed5-cf46-e6019672da6a"
   },
   "outputs": [],
   "source": []
  },
  {
   "cell_type": "markdown",
   "id": "ff0b354a",
   "metadata": {
    "id": "ff0b354a"
   },
   "source": [
    "Importamos la librerias"
   ]
  },
  {
   "cell_type": "code",
   "execution_count": 1,
   "id": "f94e28b4",
   "metadata": {
    "id": "f94e28b4"
   },
   "outputs": [],
   "source": [
    "from mesa import Agent, Model\n",
    "from mesa.time import SimultaneousActivation\n",
    "from mesa.space import SingleGrid\n",
    "from mesa.datacollection import DataCollector\n",
    "from mesa.batchrunner import BatchRunner\n",
    "\n",
    "# matplotlib lo vamos a utilizar para realizar una ''animación'' de mi modelo.\n",
    "import matplotlib\n",
    "import matplotlib.pyplot as plt\n",
    "import matplotlib.animation as animation\n",
    "plt.rcParams[\"animation.html\"] = \"jshtml\"\n",
    "matplotlib.rcParams['animation.embed_limit'] = 2**128\n",
    "\n",
    "import numpy as np\n",
    "import pandas as pd\n",
    "\n",
    "# Definimos otros paquete que vamos a usar para medir el tiempo de ejecución del modelo\n",
    "import time\n",
    "import datetime\n",
    "import random\n",
    "\n",
    "import json\n",
    "import math\n",
    "\n",
    "from flask import Flask"
   ]
  },
  {
   "cell_type": "code",
   "execution_count": 2,
   "id": "54891a0c",
   "metadata": {
    "id": "54891a0c"
   },
   "outputs": [],
   "source": [
    "ActiveSimulation=False\n",
    "\n",
    "COMPLETE_VISION = True\n",
    "GRID_WIDTH= 100\n",
    "GRID_HIGHT=200\n",
    "MAX_GENERATION=300\n",
    "CARS_GENERATED_BY_STEP = 2\n",
    "TIME_CAR_GENERATION =4\n",
    "TIME_START_ACCIDENT = 80\n",
    "HIGHWAY_VELOCITY = 6\n",
    "\n",
    "NUM_CARS=1"
   ]
  },
  {
   "cell_type": "code",
   "execution_count": null,
   "id": "2eb0a3d4",
   "metadata": {
    "id": "2eb0a3d4"
   },
   "outputs": [],
   "source": []
  },
  {
   "cell_type": "code",
   "execution_count": 3,
   "id": "d878ef6e",
   "metadata": {
    "id": "d878ef6e"
   },
   "outputs": [],
   "source": [
    "def get_grid(model):\n",
    "    grid = np.zeros((model.grid.height, model.grid.width))\n",
    "    for ren in range(model.grid.height):\n",
    "        for col in range(model.grid.width):\n",
    "            if model.grid.is_cell_empty((col, ren)):\n",
    "                grid[ren][col] = 0\n",
    "            else:\n",
    "                grid[ren][col] = 1\n",
    "            \n",
    "    return grid"
   ]
  },
  {
   "cell_type": "code",
   "execution_count": 4,
   "id": "13ffd90e",
   "metadata": {
    "id": "13ffd90e"
   },
   "outputs": [],
   "source": [
    "def get_pos(agent):\n",
    "    return [agent.my_id,agent.x,agent.y]"
   ]
  },
  {
   "cell_type": "markdown",
   "id": "86585ca2",
   "metadata": {
    "id": "86585ca2"
   },
   "source": [
    "Definimos el agente "
   ]
  },
  {
   "cell_type": "code",
   "execution_count": 5,
   "id": "5ba67a5f",
   "metadata": {
    "id": "5ba67a5f"
   },
   "outputs": [],
   "source": [
    "class CarAgent(Agent):\n",
    "    def __init__(self, unique_id, model,x,y,state, line):\n",
    "        super().__init__(unique_id, model)\n",
    "        #Position\n",
    "        self.x=int(x)\n",
    "        self.y=int(y)\n",
    "        #Velocity\n",
    "        self.xvelocity=0\n",
    "        self.yvelocity=model.speedWayVelocity\n",
    "        self.visionRange=4\n",
    "        #States : stop , go , change\n",
    "        self.state=state\n",
    "        #Valor de x al que tienes que ir\n",
    "        self.line=line\n",
    "        self.my_id=unique_id\n",
    "        self.braking=False\n",
    "        self.oneChange=False\n",
    "        \n",
    "    def move(self):\n",
    "        if(ActiveSimulation):\n",
    "            print(\"Moving Car %i from (%i,%i) to (%i,%i) velocity= (%i,%i) State:%s\"%(self.my_id,self.x,self.y,int(self.xvelocity+self.x),int(self.yvelocity+self.y),self.xvelocity,self.yvelocity,self.state))\n",
    "        self.y=int(self.yvelocity+self.y)\n",
    "        self.x=int(self.x+self.xvelocity)\n",
    "        self.model.grid.move_agent(self, (self.x,self.y))\n",
    "\n",
    "    def checkStuck(self):\n",
    "        if(self.y <model.speedWayVelocity*2):\n",
    "            return False\n",
    "        for i in model.accident:\n",
    "            if self.x == i[0] and self.y < i[0]:\n",
    "                return True\n",
    "        return False\n",
    "        \n",
    "    def canCrash(self):\n",
    "        limit=int(self.y+self.visionRange*self.yvelocity)\n",
    "        if(limit<25):\n",
    "            limit=25\n",
    "        #print(\"Range %f\" % (self.visionRange*self.yvelocity))\n",
    "        position = []\n",
    "        \n",
    "        for i in range(self.y + 1,limit):\n",
    "            newpos=(self.x, i)\n",
    "            if(self.model.grid.out_of_bounds(newpos)):\n",
    "                break\n",
    "            position.append(newpos)\n",
    "        return (len(self.model.grid.get_cell_list_contents(position))>0)\n",
    "        \n",
    "    \n",
    "    def brake(self):\n",
    "        if(True):\n",
    "            self.yvelocity=0\n",
    "            \n",
    "        \n",
    "        self.xvelocity=int(self.xvelocity/2)\n",
    "        self.yvelocity=int(self.yvelocity/2)\n",
    "        \n",
    "        \n",
    "    def auxReviewLine(self,xvalue):\n",
    "        dist=model.speedWayVelocity\n",
    "        backMargin=dist*1.5\n",
    "        frontMargin=dist*2\n",
    "        position = []\n",
    "        for i in range(int(self.y-backMargin), int( self.y + frontMargin)):\n",
    "            newpos=(xvalue, i)\n",
    "            if(model.grid.out_of_bounds(newpos)):\n",
    "                break\n",
    "            position.append(newpos)\n",
    "        return (len(self.model.grid.get_cell_list_contents(position))==0)\n",
    "            \n",
    "    def chooseLine(self):\n",
    "        #Revisa la bandera de cambiarse de carril una vez\n",
    "        if self.oneChange:\n",
    "            return 0\n",
    "        left=0\n",
    "        right=0\n",
    "        myIndexLine=0\n",
    "        for i in range(len(model.lines)):\n",
    "            if(model.lines[i]==self.x):\n",
    "                myIndexLine=i\n",
    "                break\n",
    "        #OJO\n",
    "        if(myIndexLine<2):\n",
    "            right=self.auxReviewLine(model.lines[myIndexLine+1])\n",
    "            if(right):\n",
    "                #print(\"MY index is %i carril %i\"%(myIndexLine,model.lines[myIndexLine]))\n",
    "                print(\"EL CARRIL %i DE LA DERECHA TA LIBRE\"%model.lines[myIndexLine+1])\n",
    "        if(myIndexLine>0):\n",
    "            left=self.auxReviewLine(model.lines[myIndexLine-1])\n",
    "            if(left):\n",
    "                #print(\"MY index is %i carril %i\"%(myIndexLine,model.lines[myIndexLine]))\n",
    "                print(\"EL CARRIL %i DE LA IZQUIERDA TA LIBRE\"%model.lines[myIndexLine-1])\n",
    "        if(left and right):\n",
    "            if(np.random.random(1)[0]<=0.5):\n",
    "                if(ActiveSimulation):\n",
    "                    print(\"RANDOM CHOOSE LEFT x= %i\"%model.lines[myIndexLine-1])\n",
    "                return model.lines[myIndexLine-1]\n",
    "            else:\n",
    "                if(ActiveSimulation):\n",
    "                    print(\"RANDOM CHOOSE RIGHT x= %i\"%model.lines[myIndexLine+1])\n",
    "                return model.lines[myIndexLine+1]\n",
    "        elif(left):\n",
    "            print(\"My current is %i RETUNR UNIQUE LEFT SOL\"%(self.line))\n",
    "            return model.lines[myIndexLine-1]\n",
    "        elif(right):\n",
    "            print(\"My current is %i RETUNR UNIQUE RGHT SOL\"%(self.line))\n",
    "            return model.lines[myIndexLine+1]\n",
    "        return 0\n",
    "    \n",
    "    def regulateVel(self,targetVel):\n",
    "        if(self.yvelocity == targetVel):\n",
    "            return\n",
    "        elif self.yvelocity >targetVel:\n",
    "            dif=self.yvelocity-targetVel\n",
    "            if dif<2:\n",
    "                self.yvelocity=targetVel\n",
    "            else:\n",
    "                self.yvelocity-=(2*dif/3) \n",
    "        elif self.yvelocity < targetVel:\n",
    "            dif=targetVel-self.yvelocity\n",
    "            if dif<2:\n",
    "                self.yvelocity=targetVel\n",
    "            else:\n",
    "                self.yvelocity +=(2*dif/3) \n",
    "                \n",
    "    def alignLine(self):\n",
    "        if(self.x == self.line):\n",
    "            self.xvelocity=0\n",
    "            return\n",
    "        elif(self.x<self.line):\n",
    "            self.xvelocity=1\n",
    "        elif(self.x>self.line):\n",
    "            self.xvelocity=1\n",
    "        \n",
    "\n",
    "    def step(self):\n",
    "        if (self.state==\"stop\"):\n",
    "            self.brake()\n",
    "        elif (self.state==\"go\"):\n",
    "            self.alignLine()\n",
    "            \n",
    "            \n",
    "            if(self.canCrash()):\n",
    "                if(ActiveSimulation):\n",
    "                    print(\"The car %i in the line %i Can Crash aahhh\"%(self.my_id,self.line))\n",
    "                newLine=self.chooseLine()\n",
    "                if(ActiveSimulation):\n",
    "                    print(\"car %i NewLine Decision %i\"%(self.my_id,newLine))\n",
    "                if(self.x==50 and newLine != 0 ):\n",
    "                    if(ActiveSimulation):\n",
    "                        print(\"CHANGING LINE %i to %i\"%(self.line,newLine))\n",
    "                    self.state=\"changingLine\"\n",
    "                    self.line=newLine\n",
    "                else:\n",
    "                    if(ActiveSimulation):\n",
    "                        print(\"Car %i can't change line, I'll brake\"%(self.my_id))\n",
    "                    #self.brake()\n",
    "                    self.y=0\n",
    "            elif(COMPLETE_VISION and self.checkStuck()):\n",
    "                print(\"The car %i  is in the line %i , there is an accident\"%(self.my_id, self.line))\n",
    "                newLine=self.chooseLine()\n",
    "                if(self.x==50 and newLine != 0 ):\n",
    "                    self.state=\"changingLine\"\n",
    "                    self.oneChange=True\n",
    "                    self.line=newLine\n",
    "            else:\n",
    "                self.regulateVel(model.speedWayVelocity)\n",
    "            \n",
    "        elif (self.state==\"changingLine\"):\n",
    "            self.regulateVel(model.speedWayVelocity)\n",
    "            if(self.x == self.line):\n",
    "                \n",
    "                if(ActiveSimulation):\n",
    "                    print(\"Car %i change line SUCCESS\"%self.my_id)\n",
    "                self.state=\"go\"\n",
    "                self.xvelocity=0\n",
    "            elif(self.x<self.line):\n",
    "                self.xvelocity=10\n",
    "            elif(self.x>self.line):\n",
    "                self.xvelocity=-10\n",
    "            \n",
    "                    \n",
    "\n",
    "        #print(\"POS (%i,%i)\"%(self.x,self.y))\n",
    "        #print(\"VEL(%i,%i)\"%(self.xvelocity,self.yvelocity))\n",
    "       \n",
    "        self.move()\n",
    "\n",
    " "
   ]
  },
  {
   "cell_type": "code",
   "execution_count": null,
   "id": "b6c2fe02",
   "metadata": {
    "id": "b6c2fe02"
   },
   "outputs": [],
   "source": []
  },
  {
   "cell_type": "markdown",
   "id": "c0b0b184",
   "metadata": {
    "id": "c0b0b184"
   },
   "source": [
    "Definimos el modelo"
   ]
  },
  {
   "cell_type": "code",
   "execution_count": 6,
   "id": "07cc2811",
   "metadata": {
    "id": "07cc2811"
   },
   "outputs": [],
   "source": [
    "class highwayModel(Model):\n",
    "    def __init__(self,n, widht, height,num_generated_cars,car_time_generation,time_start_accident,highway_velocity):\n",
    "        self.agentId=100;\n",
    "        self.num_agents = n\n",
    "        self.grid=SingleGrid(widht,height,True)\n",
    "        self.schedule = SimultaneousActivation(self)\n",
    "        self.lines=[20,50,80]\n",
    "        \n",
    "        self.currentStep=0\n",
    "        \n",
    "        self.idCounter=0\n",
    "        \n",
    "        self.speedWayVelocity=highway_velocity\n",
    "        #Generate Cars\n",
    "        self.generatorTime= car_time_generation\n",
    "        #numero de carros\n",
    "        self.numCarsGenerated = num_generated_cars\n",
    "        #Incident\n",
    "        self.incidentStopCar=False\n",
    "        self.startIncident=time_start_accident\n",
    "        self.time=0\n",
    "        self.accident=[]\n",
    "\n",
    "        for i in range(self.num_agents):\n",
    "            # Add the agent to a random grid cell\n",
    "            x = self.random.randrange(self.grid.width)\n",
    "            y = self.random.randrange(self.grid.height)\n",
    "        \n",
    "            a = CarAgent(self.newId(), self,x,y,\"go\",20)\n",
    "            self.schedule.add(a)  \n",
    "            self.grid.place_agent(a, (x, y))\n",
    "        #self.createBarrier()\n",
    "        self.datacollector = DataCollector(model_reporters={\"Grid\": get_grid},agent_reporters={\"Positions\": get_pos})\n",
    "        \n",
    "    def newId(self):\n",
    "        self.idCounter+=1\n",
    "        return self.idCounter\n",
    "    \n",
    "    def deleteCarOutLimits(self):\n",
    "        ###  Cambiar este ciclo por recorrer la agenda\n",
    "        for (agent, x, y) in self.grid.coord_iter():\n",
    "            if not model.grid.is_cell_empty((x, y)):\n",
    "                #print(\"Car position (%i, %i)\"%(x,y))\n",
    "                if agent.x<0 or agent.x>=self.grid.width or agent.y<0 or agent.y>=self.grid.height:\n",
    "                    #print(\"Car with (%i, %i) is out of the limits\"%(x,y))\n",
    "                    self.grid.remove_agent(agent)\n",
    "                    self.schedule.remove(agent)\n",
    "                    #print(\"Car with (%i, %i) was deleted\"%(x,y))\n",
    "                \n",
    "    def generateNewCar(self,numCars,generatorTime):\n",
    "        \n",
    "        if( self.currentStep%generatorTime==0):\n",
    "            x=[20,50,80]\n",
    "            random.shuffle(x)\n",
    "            #print(\"New car in %i %i\"%(x,0))\n",
    "            for i in range(random.randint(1,numCars)):\n",
    "                a = CarAgent(self.newId(), self,x[i] ,0,\"go\",x[i])\n",
    "                self.schedule.add(a)\n",
    "                self.grid.place_agent(a, (x[i], 0))\n",
    "    \n",
    "    def carPositionList(self):\n",
    "        positions=[]\n",
    "        for (agent, x, y) in self.grid.coord_iter():\n",
    "            if not self.grid.is_cell_empty((x, y)):\n",
    "                   positions.append([agent.my_id,x,y])\n",
    "        return positions\n",
    "\n",
    "    def checkAccident(self):\n",
    "        accident = []\n",
    "        for (agent, x, y) in self.grid.coord_iter():\n",
    "            if not self.grid.is_cell_empty((x, y)):\n",
    "                if agent.yvelocity == 0:\n",
    "                    accident.append([agent.x, agent.y])\n",
    "        self.accident = accident\n",
    "                \n",
    "\n",
    "    def step(self):\n",
    "        self.datacollector.collect(self)\n",
    "        self.schedule.step()\n",
    "        timeStep=3\n",
    "        self.generateNewCar(self.numCarsGenerated,self.generatorTime)\n",
    "        self.currentStep+=1\n",
    "        self.deleteCarOutLimits()\n",
    "        self.stopCarIncident()\n",
    "        self.time+=1\n",
    "        self.checkAccident()\n",
    "        print(len(self.accident))\n",
    "        for i in self.accident:\n",
    "            print(\"There is an accident in %i,%i\"%(i[0],i[0]))\n",
    "        #self.createBarrier()\n",
    "        \n",
    "    def createBarrier(self):\n",
    "        for x in range(self.grid.width):\n",
    "                a = CarAgent(self.newId(), self,x,int(self.grid.height-2/2),\"stop\",1)\n",
    "                self.grid.place_agent(a, (x,int(self.grid.height-2/2)))\n",
    "                \n",
    "    def stopCarIncident(self):\n",
    "        if(not self.incidentStopCar):\n",
    "            if self.currentStep>=self.startIncident:\n",
    "                lowerLimity=self.grid.height/4\n",
    "                upperLimity=3*self.grid.height/8\n",
    "                for (car, x, y) in self.grid.coord_iter():\n",
    "                    if not self.grid.is_cell_empty((x, y)) and car.y>=lowerLimity and car.y>=upperLimity:\n",
    "                        if(car.x==50):\n",
    "                            car.state=\"stop\"\n",
    "                            self.incidentStopCar=True\n",
    "                            break\n",
    "\n",
    "        \n",
    "    "
   ]
  },
  {
   "cell_type": "code",
   "execution_count": 7,
   "id": "cb4241f1",
   "metadata": {
    "colab": {
     "base_uri": "https://localhost:8080/"
    },
    "id": "cb4241f1",
    "outputId": "7d75196b-f901-4fd7-c908-8b5428918869",
    "scrolled": false
   },
   "outputs": [],
   "source": [
    "\"\"\"GRID_WIDTH= 100\n",
    "GRID_HIGHT= 200\n",
    "MAX_GENERATION= 10\n",
    "NUM_CARS=1\n",
    "ARS_GENERATED_BY_STEP=2\n",
    "\"\"\"\n",
    "#DATA IN THE FIRST CODE BLOCK\n",
    "model=highwayModel(NUM_CARS,GRID_WIDTH,GRID_HIGHT,CARS_GENERATED_BY_STEP,TIME_CAR_GENERATION,TIME_START_ACCIDENT, HIGHWAY_VELOCITY  )\n",
    "if(ActiveSimulation):\n",
    "    for i in range (MAX_GENERATION):\n",
    "        print(\"STEP %i\"%i)\n",
    "        model.step()"
   ]
  },
  {
   "cell_type": "code",
   "execution_count": 8,
   "id": "871d889f",
   "metadata": {
    "id": "871d889f"
   },
   "outputs": [],
   "source": [
    "all_grid = model.datacollector.get_model_vars_dataframe()"
   ]
  },
  {
   "cell_type": "markdown",
   "id": "0328791d",
   "metadata": {
    "id": "0328791d"
   },
   "source": [
    "Graficar la informacion"
   ]
  },
  {
   "cell_type": "code",
   "execution_count": 9,
   "id": "7351aee5",
   "metadata": {
    "colab": {
     "base_uri": "https://localhost:8080/",
     "height": 415
    },
    "id": "7351aee5",
    "outputId": "c22be0ec-d6b5-434f-c55b-3f6d1bcb34d4",
    "scrolled": true
   },
   "outputs": [
    {
     "ename": "IndexError",
     "evalue": "single positional indexer is out-of-bounds",
     "output_type": "error",
     "traceback": [
      "\u001b[1;31m---------------------------------------------------------------------------\u001b[0m",
      "\u001b[1;31mIndexError\u001b[0m                                Traceback (most recent call last)",
      "Cell \u001b[1;32mIn [9], line 5\u001b[0m\n\u001b[0;32m      3\u001b[0m axs\u001b[38;5;241m.\u001b[39mset_xticks([])\n\u001b[0;32m      4\u001b[0m axs\u001b[38;5;241m.\u001b[39mset_yticks([])\n\u001b[1;32m----> 5\u001b[0m patch \u001b[38;5;241m=\u001b[39m plt\u001b[38;5;241m.\u001b[39mimshow(\u001b[43mall_grid\u001b[49m\u001b[38;5;241;43m.\u001b[39;49m\u001b[43miloc\u001b[49m\u001b[43m[\u001b[49m\u001b[38;5;241;43m0\u001b[39;49m\u001b[43m]\u001b[49m[\u001b[38;5;241m0\u001b[39m], cmap\u001b[38;5;241m=\u001b[39mplt\u001b[38;5;241m.\u001b[39mcm\u001b[38;5;241m.\u001b[39mbinary)\n\u001b[0;32m      7\u001b[0m \u001b[38;5;28;01mdef\u001b[39;00m \u001b[38;5;21manimate\u001b[39m(i):\n\u001b[0;32m      8\u001b[0m     patch\u001b[38;5;241m.\u001b[39mset_data(all_grid\u001b[38;5;241m.\u001b[39miloc[i][\u001b[38;5;241m0\u001b[39m])\n",
      "File \u001b[1;32mc:\\users\\fmend\\miniconda3\\lib\\site-packages\\pandas\\core\\indexing.py:1073\u001b[0m, in \u001b[0;36m_LocationIndexer.__getitem__\u001b[1;34m(self, key)\u001b[0m\n\u001b[0;32m   1070\u001b[0m axis \u001b[38;5;241m=\u001b[39m \u001b[38;5;28mself\u001b[39m\u001b[38;5;241m.\u001b[39maxis \u001b[38;5;129;01mor\u001b[39;00m \u001b[38;5;241m0\u001b[39m\n\u001b[0;32m   1072\u001b[0m maybe_callable \u001b[38;5;241m=\u001b[39m com\u001b[38;5;241m.\u001b[39mapply_if_callable(key, \u001b[38;5;28mself\u001b[39m\u001b[38;5;241m.\u001b[39mobj)\n\u001b[1;32m-> 1073\u001b[0m \u001b[38;5;28;01mreturn\u001b[39;00m \u001b[38;5;28;43mself\u001b[39;49m\u001b[38;5;241;43m.\u001b[39;49m\u001b[43m_getitem_axis\u001b[49m\u001b[43m(\u001b[49m\u001b[43mmaybe_callable\u001b[49m\u001b[43m,\u001b[49m\u001b[43m \u001b[49m\u001b[43maxis\u001b[49m\u001b[38;5;241;43m=\u001b[39;49m\u001b[43maxis\u001b[49m\u001b[43m)\u001b[49m\n",
      "File \u001b[1;32mc:\\users\\fmend\\miniconda3\\lib\\site-packages\\pandas\\core\\indexing.py:1625\u001b[0m, in \u001b[0;36m_iLocIndexer._getitem_axis\u001b[1;34m(self, key, axis)\u001b[0m\n\u001b[0;32m   1622\u001b[0m     \u001b[38;5;28;01mraise\u001b[39;00m \u001b[38;5;167;01mTypeError\u001b[39;00m(\u001b[38;5;124m\"\u001b[39m\u001b[38;5;124mCannot index by location index with a non-integer key\u001b[39m\u001b[38;5;124m\"\u001b[39m)\n\u001b[0;32m   1624\u001b[0m \u001b[38;5;66;03m# validate the location\u001b[39;00m\n\u001b[1;32m-> 1625\u001b[0m \u001b[38;5;28;43mself\u001b[39;49m\u001b[38;5;241;43m.\u001b[39;49m\u001b[43m_validate_integer\u001b[49m\u001b[43m(\u001b[49m\u001b[43mkey\u001b[49m\u001b[43m,\u001b[49m\u001b[43m \u001b[49m\u001b[43maxis\u001b[49m\u001b[43m)\u001b[49m\n\u001b[0;32m   1627\u001b[0m \u001b[38;5;28;01mreturn\u001b[39;00m \u001b[38;5;28mself\u001b[39m\u001b[38;5;241m.\u001b[39mobj\u001b[38;5;241m.\u001b[39m_ixs(key, axis\u001b[38;5;241m=\u001b[39maxis)\n",
      "File \u001b[1;32mc:\\users\\fmend\\miniconda3\\lib\\site-packages\\pandas\\core\\indexing.py:1557\u001b[0m, in \u001b[0;36m_iLocIndexer._validate_integer\u001b[1;34m(self, key, axis)\u001b[0m\n\u001b[0;32m   1555\u001b[0m len_axis \u001b[38;5;241m=\u001b[39m \u001b[38;5;28mlen\u001b[39m(\u001b[38;5;28mself\u001b[39m\u001b[38;5;241m.\u001b[39mobj\u001b[38;5;241m.\u001b[39m_get_axis(axis))\n\u001b[0;32m   1556\u001b[0m \u001b[38;5;28;01mif\u001b[39;00m key \u001b[38;5;241m>\u001b[39m\u001b[38;5;241m=\u001b[39m len_axis \u001b[38;5;129;01mor\u001b[39;00m key \u001b[38;5;241m<\u001b[39m \u001b[38;5;241m-\u001b[39mlen_axis:\n\u001b[1;32m-> 1557\u001b[0m     \u001b[38;5;28;01mraise\u001b[39;00m \u001b[38;5;167;01mIndexError\u001b[39;00m(\u001b[38;5;124m\"\u001b[39m\u001b[38;5;124msingle positional indexer is out-of-bounds\u001b[39m\u001b[38;5;124m\"\u001b[39m)\n",
      "\u001b[1;31mIndexError\u001b[0m: single positional indexer is out-of-bounds"
     ]
    },
    {
     "data": {
      "image/png": "[encoded data removed]",
      "text/plain": [
       "<Figure size 700x700 with 1 Axes>"
      ]
     },
     "metadata": {},
     "output_type": "display_data"
    }
   ],
   "source": [
    "# Graficamos la información usando `matplotlib`\n",
    "fig, axs = plt.subplots(figsize=(7,7))\n",
    "axs.set_xticks([])\n",
    "axs.set_yticks([])\n",
    "patch = plt.imshow(all_grid.iloc[0][0], cmap=plt.cm.binary)\n",
    "\n",
    "def animate(i):\n",
    "    patch.set_data(all_grid.iloc[i][0])\n",
    "    #print(all_grid.iloc[i][0])\n",
    "    \n",
    "anim = animation.FuncAnimation(fig, animate, frames=MAX_GENERATION)\n"
   ]
  },
  {
   "cell_type": "code",
   "execution_count": null,
   "id": "ba6a548a",
   "metadata": {
    "colab": {
     "base_uri": "https://localhost:8080/",
     "height": 602
    },
    "id": "ba6a548a",
    "outputId": "7b7d2693-4cd7-4f30-b550-ccac356163b3"
   },
   "outputs": [],
   "source": [
    "anim"
   ]
  },
  {
   "cell_type": "code",
   "execution_count": null,
   "id": "0dde4316",
   "metadata": {
    "id": "0dde4316"
   },
   "outputs": [],
   "source": [
    "if(not ActiveSimulation):\n",
    "    model=highwayModel(NUM_CARS,GRID_WIDTH,GRID_HIGHT,TIME_CAR_GENERATION,TIME_START_ACCIDENT, HIGHWAY_VELOCITY  )"
   ]
  },
  {
   "cell_type": "code",
   "execution_count": 10,
   "id": "00fba290",
   "metadata": {
    "id": "00fba290"
   },
   "outputs": [],
   "source": [
    "def translate(x,y):\n",
    "    x-=50\n",
    "\n",
    "    pos=[1054.5,480]\n",
    "    #1072.5 \n",
    "    rotation=280\n",
    "    #Escalamos x, y\n",
    "    scales=[-0.1615*x,-4.1988*y]\n",
    "    #x'= x cost - y sint\n",
    "    #y'=x sint +y cost\n",
    "    new_x=scales[0]*math.cos(math.radians(rotation))-scales[1]*math.sin(math.radians(rotation))+pos[0]\n",
    "    new_y=scales[0]*math.sin(math.radians(rotation))+scales[1]*math.cos(math.radians(rotation))+pos[1]\n",
    "    return [new_x,new_y]"
   ]
  },
  {
   "cell_type": "code",
   "execution_count": 11,
   "id": "dbb809db",
   "metadata": {
    "colab": {
     "base_uri": "https://localhost:8080/"
    },
    "id": "dbb809db",
    "outputId": "64edbf6a-1c60-4b50-bf0a-c02ec142776f"
   },
   "outputs": [
    {
     "name": "stdout",
     "output_type": "stream",
     "text": [
      "1055.9022090346605 472.04767739442644\n",
      "1055.3413254207962 475.22860643665587\n",
      "1053.6586745792038 484.77139356334413\n"
     ]
    }
   ],
   "source": [
    "[new_x,new_y]=translate(0,0)\n",
    "print(new_x,new_y)\n",
    "[new_x,new_y]=translate(20,0)\n",
    "print(new_x,new_y)\n",
    "[new_x,new_y]=translate(80,0)\n",
    "print(new_x,new_y)"
   ]
  },
  {
   "cell_type": "code",
   "execution_count": 12,
   "id": "a3f3b6d5",
   "metadata": {
    "id": "a3f3b6d5"
   },
   "outputs": [],
   "source": [
    "def handleStep():\n",
    "    newList=model.carPositionList()\n",
    "    n=model.time\n",
    "    res=[]\n",
    "    for i in newList:\n",
    "        new_x=i[1]\n",
    "        new_y=i[2]\n",
    "        #[new_x,new_y]=translate(i[1],i[2])\n",
    "        res.append({\"id\":i[0],\"x\":new_x,\"y\":new_y})\n",
    "     \n",
    "    model.step()\n",
    "    return {\"positionList\":res, \"step\":n}"
   ]
  },
  {
   "cell_type": "code",
   "execution_count": null,
   "id": "64dbc95a",
   "metadata": {
    "colab": {
     "base_uri": "https://localhost:8080/",
     "height": 70
    },
    "id": "64dbc95a",
    "outputId": "737d2574-d3fe-4a67-e4e3-df5e0ea0c41c"
   },
   "outputs": [
    {
     "name": "stdout",
     "output_type": "stream",
     "text": [
      " * Serving Flask app '__main__'\n",
      " * Debug mode: off\n"
     ]
    },
    {
     "name": "stderr",
     "output_type": "stream",
     "text": [
      "WARNING: This is a development server. Do not use it in a production deployment. Use a production WSGI server instead.\n",
      " * Running on http://127.0.0.1:5000\n",
      "Press CTRL+C to quit\n",
      "127.0.0.1 - - [02/Dec/2022 14:18:06] \"GET /position HTTP/1.1\" 200 -\n"
     ]
    },
    {
     "name": "stdout",
     "output_type": "stream",
     "text": [
      "0\n"
     ]
    },
    {
     "name": "stderr",
     "output_type": "stream",
     "text": [
      "127.0.0.1 - - [02/Dec/2022 14:18:09] \"GET /position HTTP/1.1\" 200 -\n"
     ]
    },
    {
     "name": "stdout",
     "output_type": "stream",
     "text": [
      "0\n"
     ]
    },
    {
     "name": "stderr",
     "output_type": "stream",
     "text": [
      "127.0.0.1 - - [02/Dec/2022 14:18:10] \"GET /position HTTP/1.1\" 200 -\n"
     ]
    },
    {
     "name": "stdout",
     "output_type": "stream",
     "text": [
      "0\n"
     ]
    },
    {
     "name": "stderr",
     "output_type": "stream",
     "text": [
      "127.0.0.1 - - [02/Dec/2022 14:18:11] \"GET /position HTTP/1.1\" 200 -\n"
     ]
    },
    {
     "name": "stdout",
     "output_type": "stream",
     "text": [
      "0\n"
     ]
    },
    {
     "name": "stderr",
     "output_type": "stream",
     "text": [
      "127.0.0.1 - - [02/Dec/2022 14:18:14] \"GET /position HTTP/1.1\" 200 -\n"
     ]
    },
    {
     "name": "stdout",
     "output_type": "stream",
     "text": [
      "0\n"
     ]
    },
    {
     "name": "stderr",
     "output_type": "stream",
     "text": [
      "127.0.0.1 - - [02/Dec/2022 14:18:14] \"GET /position HTTP/1.1\" 200 -\n"
     ]
    },
    {
     "name": "stdout",
     "output_type": "stream",
     "text": [
      "0\n"
     ]
    },
    {
     "name": "stderr",
     "output_type": "stream",
     "text": [
      "127.0.0.1 - - [02/Dec/2022 14:18:15] \"GET /position HTTP/1.1\" 200 -\n"
     ]
    },
    {
     "name": "stdout",
     "output_type": "stream",
     "text": [
      "0\n"
     ]
    },
    {
     "name": "stderr",
     "output_type": "stream",
     "text": [
      "127.0.0.1 - - [02/Dec/2022 14:18:17] \"GET /position HTTP/1.1\" 200 -\n"
     ]
    },
    {
     "name": "stdout",
     "output_type": "stream",
     "text": [
      "0\n"
     ]
    },
    {
     "name": "stderr",
     "output_type": "stream",
     "text": [
      "127.0.0.1 - - [02/Dec/2022 14:18:20] \"GET /position HTTP/1.1\" 200 -\n"
     ]
    },
    {
     "name": "stdout",
     "output_type": "stream",
     "text": [
      "0\n"
     ]
    }
   ],
   "source": [
    "\n",
    "api = Flask(__name__)\n",
    "\n",
    "#return json.dumps(\"{ companyList:\"+companies+\"}\")\n",
    "@api.route('/position', methods=['GET'])\n",
    "def get_position():\n",
    "    #return json.dumps(companies)\n",
    "    return json.dumps(handleStep())\n",
    "if __name__ == '__main__':\n",
    "    api.run()"
   ]
  },
  {
   "cell_type": "code",
   "execution_count": null,
   "id": "cc9b9373",
   "metadata": {
    "id": "cc9b9373"
   },
   "outputs": [],
   "source": []
  },
  {
   "cell_type": "code",
   "execution_count": null,
   "id": "442e3dff",
   "metadata": {
    "id": "442e3dff"
   },
   "outputs": [],
   "source": []
  },
  {
   "cell_type": "code",
   "execution_count": null,
   "id": "a730fc84",
   "metadata": {
    "id": "a730fc84"
   },
   "outputs": [],
   "source": []
  },
  {
   "cell_type": "code",
   "execution_count": null,
   "id": "e059b2bb",
   "metadata": {
    "id": "e059b2bb"
   },
   "outputs": [],
   "source": []
  },
  {
   "cell_type": "code",
   "execution_count": null,
   "id": "9f1e429f",
   "metadata": {
    "id": "9f1e429f"
   },
   "outputs": [],
   "source": []
  },
  {
   "cell_type": "code",
   "execution_count": null,
   "id": "4b1f9845",
   "metadata": {
    "id": "4b1f9845"
   },
   "outputs": [],
   "source": []
  },
  {
   "cell_type": "code",
   "execution_count": null,
   "id": "d889b85e",
   "metadata": {},
   "outputs": [],
   "source": []
  }
 ],
 "metadata": {
  "colab": {
   "provenance": []
  },
  "kernelspec": {
   "display_name": "Python 3 (ipykernel)",
   "language": "python",
   "name": "python3"
  },
  "language_info": {
   "codemirror_mode": {
    "name": "ipython",
    "version": 3
   },
   "file_extension": ".py",
   "mimetype": "text/x-python",
   "name": "python",
   "nbconvert_exporter": "python",
   "pygments_lexer": "ipython3",
   "version": "3.9.5"
  }
 },
 "nbformat": 4,
 "nbformat_minor": 5
}
